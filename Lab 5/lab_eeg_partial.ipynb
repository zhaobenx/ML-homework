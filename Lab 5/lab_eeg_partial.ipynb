{
  "nbformat": 4,
  "nbformat_minor": 0,
  "metadata": {
    "colab": {
      "name": "lab_eeg_partial.ipynb",
      "version": "0.3.2",
      "provenance": [],
      "toc_visible": true
    },
    "kernelspec": {
      "display_name": "Python 3",
      "language": "python",
      "name": "python3"
    }
  },
  "cells": [
    {
      "metadata": {
        "id": "ZQU83eBVsyhr",
        "colab_type": "text"
      },
      "cell_type": "markdown",
      "source": [
        "# Lab:  Source Localization for EEG\n",
        "\n",
        "EEG or [Electroencephalography](https://en.wikipedia.org/wiki/Electroencephalography) is a powerful tool for neuroscientists in understanding brain activity.  In EEG, a patient wears a headset with electrodes that measures voltages at a number of points on the scalp.  These voltages arise from ionic currents within the brain.  A common *inverse problem* is to estimate the which parts of the brain caused the measured response.  Source localization is useful in understanding which parts of the brain are involved in certain tasks.  A key challenge in this inverse problem is that the number of unknowns (possible locations in the brain) is much larger than the number of measurements.  In this lab, we will use LASSO regression on a real EEG dataset to overcome this problem and determine the brain region that is active under an auditory stimulus.\n",
        "\n",
        "In addition to the concepts in the [prostate LASSO demo](./demo_prostate.ipynb) you will learn to:\n",
        "* Represent responses of multi-channel time-series data, such as EEG, using linear models\n",
        "* Perform LASSO and Ridge regression\n",
        "* Select the regularization level via cross-validation\n",
        "* Visually compare the sparsity between the solutions\n",
        "\n",
        "We first download standard packages."
      ]
    },
    {
      "metadata": {
        "id": "leSjTPO2syhu",
        "colab_type": "code",
        "colab": {}
      },
      "cell_type": "code",
      "source": [
        "import numpy as np\n",
        "import matplotlib.pyplot as plt\n",
        "import pickle\n",
        "\n",
        "from sklearn.linear_model import Lasso, Ridge, ElasticNet\n",
        "from sklearn.metrics import r2_score\n",
        "from sklearn.model_selection import train_test_split"
      ],
      "execution_count": 0,
      "outputs": []
    },
    {
      "metadata": {
        "id": "SuHsWKf7syh0",
        "colab_type": "text"
      },
      "cell_type": "markdown",
      "source": [
        "## Load the Data\n",
        "\n",
        "The data in this lab is taken from one of the sample datasets in the [MNE website](https://martinos.org/mne/stable/index.html). The sample data is a recording from one subject who experienced some auditory stimulus on the left ear.    \n",
        "\n",
        "The raw data is very large (`1.5G`) and also requires that you install the `mne` python package. To make this lab easier, I have extracted and processed a small section of the data. The following command will download a `pickle` file `eeg_dat.p` to your local machine.  If you do want to create the data yourself, the program to create the data is in this directory in the github repository."
      ]
    },
    {
      "metadata": {
        "id": "Z-xQclVWsyh1",
        "colab_type": "code",
        "colab": {
          "base_uri": "https://localhost:8080/",
          "height": 34
        },
        "outputId": "6f8f1d6e-fdb7-4e8a-8bd3-5338d9fdaa5a"
      },
      "cell_type": "code",
      "source": [
        "fn_src ='https://drive.google.com/uc?export=download&id=1RzQpKONOcXSMxH2ZzOI4iVMiTgD6ttSl'\n",
        "fn_dst ='eeg_dat.p'\n",
        "\n",
        "import os\n",
        "from six.moves import urllib\n",
        "\n",
        "if os.path.isfile(fn_dst):\n",
        "    print('File %s is already downloaded' % fn_dst)\n",
        "else:        \n",
        "    print('Fetching file %s [53MB].  This may take a minute..' % fn_dst)\n",
        "    urllib.request.urlretrieve(fn_src, fn_dst)\n",
        "    print('File %s downloaded' % fn_dst)"
      ],
      "execution_count": 5,
      "outputs": [
        {
          "output_type": "stream",
          "text": [
            "File eeg_dat.p is already downloaded\n"
          ],
          "name": "stdout"
        }
      ]
    },
    {
      "metadata": {
        "id": "1n4TAwLQsyh9",
        "colab_type": "text"
      },
      "cell_type": "markdown",
      "source": [
        "Now run the following command which will get the data from the `pickle` file."
      ]
    },
    {
      "metadata": {
        "id": "dW-SHiS9syh-",
        "colab_type": "code",
        "colab": {}
      },
      "cell_type": "code",
      "source": [
        "import pickle\n",
        "fn = 'eeg_dat.p'\n",
        "with open(fn, 'rb') as fp:\n",
        "    [X,Y] = pickle.load(fp)"
      ],
      "execution_count": 0,
      "outputs": []
    },
    {
      "metadata": {
        "id": "Hi3J2Eb7syiC",
        "colab_type": "text"
      },
      "cell_type": "markdown",
      "source": [
        "To understand the data, there are three key variables:\n",
        "* `nt`    = number of time steps that we measure data\n",
        "* `nchan` = number of channels (i.e. electrodes) measured in each time step\n",
        "* `ncur`  = number of currents in the brain that we want to estimate.  \n",
        "\n",
        "Each current comes from one brain region (called a *voxel*) in either the `x`, `y` or `z` direction.  So,\n",
        "\n",
        "    nvoxels = ncur / 3\n",
        "    \n",
        "The components of the `X` and `Y` matrices are:\n",
        "*  `Y[i,k]` = electric field measurement on channel `i` at time `k`\n",
        "*  `X[i,j]` = sensitivity of channel `i` to current `j`.\n",
        "\n",
        "Using `X.shape` and `Y.shape` compute and print `nt`, `nchan`, `ncur` and `nvoxels`."
      ]
    },
    {
      "metadata": {
        "id": "8DcWVvZ8syiE",
        "colab_type": "code",
        "colab": {}
      },
      "cell_type": "code",
      "source": [
        "# TODO\n",
        "# nt = ...\n",
        "# ncur = ...\n",
        "# nchan = ...\n",
        "# nvoxels\n",
        "\n",
        "nt = Y.shape[1]\n",
        "ncur = X.shape[1]\n",
        "nchan = X.shape[1]\n",
        "nvoxels = ncur / 3 "
      ],
      "execution_count": 0,
      "outputs": []
    },
    {
      "metadata": {
        "id": "vqeuzdgLsyiI",
        "colab_type": "text"
      },
      "cell_type": "markdown",
      "source": [
        "## Ridge Regression\n",
        "\n",
        "Our goal is to estimate the currents in the brain from the measurements `Y`.  One simple linear model is:\n",
        "\n",
        "    Y[i,k]  = \\sum_j X[i,j]*W[j,k]+ b[k]\n",
        "\n",
        "where `W[j,k]` is the value of current `j` at time `k` and `b[k]` is a bias.  We can solve for the current matrix `W` via linear regression.  \n",
        "\n",
        "Howeever, there is a problem:\n",
        "*  There are `nt x ncur` unknowns in `W`\n",
        "*  There are only `nt x nchan` measurements in `Y`.\n",
        "\n",
        "In this problem, we have:\n",
        "\n",
        "    number of measurements  << number of unknowns\n",
        "    \n",
        "We need to use regularization in these circumstances.  We first try Ridge regression.\n",
        "\n",
        "First split the data into training and test.  Use the `train_test_split` function with `test_size=0.33`."
      ]
    },
    {
      "metadata": {
        "id": "d667UtC2syiJ",
        "colab_type": "code",
        "colab": {}
      },
      "cell_type": "code",
      "source": [
        "# TODO\n",
        "# Xtr,Xts,Ytr,Yts = train_test_split(...) \n",
        "Xtr,Xts,Ytr,Yts = train_test_split(X, Y, test_size=0.33) "
      ],
      "execution_count": 0,
      "outputs": []
    },
    {
      "metadata": {
        "id": "pUeFPD9dsyiN",
        "colab_type": "text"
      },
      "cell_type": "markdown",
      "source": [
        "Use the `Ridge` regression object in `sklearn` to fit the model on the training data.  Use a regularization, `alpha=1`."
      ]
    },
    {
      "metadata": {
        "id": "pwJuTzTVsyiP",
        "colab_type": "code",
        "colab": {}
      },
      "cell_type": "code",
      "source": [
        "# TODO\n",
        "# regr = Ridge(...)\n",
        "regr = Ridge(alpha=1)\n",
        "regr.fit(Xtr, Ytr)\n",
        "\n",
        "ytr_pred = regr.predict(Xtr)\n",
        "yts_pred = regr.predict(Xts)"
      ],
      "execution_count": 0,
      "outputs": []
    },
    {
      "metadata": {
        "id": "G8r6qIjgsyiT",
        "colab_type": "text"
      },
      "cell_type": "markdown",
      "source": [
        "Preict the values `Y` on both the training and test data.  Use the `r2_score` method to measure the `R^2` value on both the training and test.  You will see that `R^2` value is large for the training data, it is very low for the test data.  This suggest that even with regularization, the model is over-fitting the data."
      ]
    },
    {
      "metadata": {
        "id": "gswANL15syiV",
        "colab_type": "code",
        "colab": {
          "base_uri": "https://localhost:8080/",
          "height": 51
        },
        "outputId": "4f6ad25c-08ce-4648-9343-9b29ae42ac63"
      },
      "cell_type": "code",
      "source": [
        "# TODO\n",
        "# rsq_tr = ...\n",
        "# rsq_ts = ...\n",
        "rsq_tr = 1 - np.mean((ytr_pred - Ytr) ** 2)/(np.std(Ytr) ** 2)\n",
        "rsq_ts = 1 - np.mean((yts_pred - Yts) ** 2)/(np.std(Yts) ** 2)\n",
        "print(f\"R^2 training is {rsq_tr}\\nR^2 testing is {rsq_ts}\" )"
      ],
      "execution_count": 14,
      "outputs": [
        {
          "output_type": "stream",
          "text": [
            "R^2 training is 0.6095040396659789\n",
            "R^2 testing is 0.2263701243823899\n"
          ],
          "name": "stdout"
        }
      ]
    },
    {
      "metadata": {
        "id": "_szMjlmnsyia",
        "colab_type": "text"
      },
      "cell_type": "markdown",
      "source": [
        "Next, try to see if we can get a better `R^2` score using different values of `alpha`.  Use cross-validation to measure the test `R^2` for 20 `alpha` values logarithmically spaced from `10^{-2}` to `10^{2}` (use `np.logspace()`).  You can use regular cross-validation.  You do not need to do `K`-fold."
      ]
    },
    {
      "metadata": {
        "id": "PN-l746ksyid",
        "colab_type": "code",
        "colab": {}
      },
      "cell_type": "code",
      "source": [
        "# TODO\n",
        "nalpha = 20\n",
        "alphas = np.logspace(-2, 2, nalpha)\n",
        "\n",
        "rsqs = []\n",
        "for alpha in alphas:\n",
        "  regr = Ridge(alpha=alpha)\n",
        "  regr.fit(Xtr, Ytr)\n",
        "  yts_pred = regr.predict(Xts)\n",
        "  rsqs.append(1 - np.mean((yts_pred - Yts) ** 2)/(np.std(Yts) ** 2))  "
      ],
      "execution_count": 0,
      "outputs": []
    },
    {
      "metadata": {
        "id": "cI6C0L8msyij",
        "colab_type": "text"
      },
      "cell_type": "markdown",
      "source": [
        "Plot the test `R^2` vs. `alpha`.  And print the maximum test `R^2`.  You should see that the maximum test `R^2` is still not very high."
      ]
    },
    {
      "metadata": {
        "id": "BdmUKZNFsyil",
        "colab_type": "code",
        "colab": {
          "base_uri": "https://localhost:8080/",
          "height": 382
        },
        "outputId": "84da7480-0697-4d68-fbb4-f019413f9bbc"
      },
      "cell_type": "code",
      "source": [
        "# TODO\n",
        "plt.semilogx(alphas, rsqs, 'o-')\n",
        "plt.xlabel(r\"$\\alpha $\")\n",
        "plt.ylabel(\"$R^2$\")\n",
        "print(f\"Maximum of R^2 is {np.max(rsqs)}\")"
      ],
      "execution_count": 26,
      "outputs": [
        {
          "output_type": "stream",
          "text": [
            "Maximum of R^2 is 0.36061805952538517\n"
          ],
          "name": "stdout"
        },
        {
          "output_type": "display_data",
          "data": {
            "image/png": "[encoded data removed]",
            "text/plain": [
              "<Figure size 576x396 with 1 Axes>"
            ]
          },
          "metadata": {
            "tags": []
          }
        }
      ]
    },
    {
      "metadata": {
        "id": "hTzBnN63syio",
        "colab_type": "text"
      },
      "cell_type": "markdown",
      "source": [
        "Now, let's take a look at the solution. \n",
        "\n",
        "* Find the optimal regularization `alpha` from the cross-validation\n",
        "* Re-fit the model at the optimal `alpha`\n",
        "* Get the current matrix `W` from the coefficients in the linear model.  These are stored in `regr.coef_`.  You may need a transpose\n",
        "* For each current `j` compute `Wrms[j] =  sqrt( sum_k W[j,k]**2 )` which is root mean squared current.\n",
        "\n",
        "You will see that the vector `Wrms` is not sparse.  This means that the solution that is found with Ridge regression finds currents in all locations."
      ]
    },
    {
      "metadata": {
        "id": "HBo4vISVsyiq",
        "colab_type": "code",
        "colab": {
          "base_uri": "https://localhost:8080/",
          "height": 34
        },
        "outputId": "293037bb-3e1f-40ae-8d18-2c3da35dab21"
      },
      "cell_type": "code",
      "source": [
        "# TODO\n",
        "alpha_opt = alphas[np.argmax(rsqs)]\n",
        "# print(np.argmax(rsqs))\n",
        "# print(alphas)\n",
        "# print(best_alpha)\n",
        "regr = Ridge(alpha=alpha_opt)\n",
        "regr.fit(Xtr, Ytr)\n",
        "# print(regr.coef_)\n",
        "W = regr.coef_.T\n",
        "Wrms = np.sqrt(np.sum(W**2, axis=1))\n",
        "print(Wrms)\n",
        "# print(W.shape)"
      ],
      "execution_count": 36,
      "outputs": [
        {
          "output_type": "stream",
          "text": [
            "[0.54297377 0.19225946 0.25831492 ... 0.0589739  0.05829201 0.04370833]\n"
          ],
          "name": "stdout"
        }
      ]
    },
    {
      "metadata": {
        "id": "YyOvZoUqsyit",
        "colab_type": "text"
      },
      "cell_type": "markdown",
      "source": [
        "## LASSO Regression\n",
        "\n",
        "We can improve the estimate by imposing sparsity.  Biologically, we know that only a limited number of brain regions should be involved in the reponse to a particular stimuli.  As a result, we would expect that the current matrix `W[j,k]` to be zero for most values `j,k`.  We can impose this constraint using LASSO regularization.\n",
        "\n",
        "Re-fit the training data using the `Lasso` model with `alpha=1e-3`.  Also set `max_iter=100` and `tol=0.01`.  The LASSO solver is much slower, so this make take a minute."
      ]
    },
    {
      "metadata": {
        "id": "06X04fiGsyiu",
        "colab_type": "code",
        "colab": {
          "base_uri": "https://localhost:8080/",
          "height": 68
        },
        "outputId": "989c52e6-5f5f-4882-96c3-3710839a0a49"
      },
      "cell_type": "code",
      "source": [
        "# TODO\n",
        "regr = Lasso(alpha=1e-3, max_iter=100, tol=0.01)\n",
        "regr.fit(Xtr, Ytr)"
      ],
      "execution_count": 44,
      "outputs": [
        {
          "output_type": "execute_result",
          "data": {
            "text/plain": [
              "Lasso(alpha=0.001, copy_X=True, fit_intercept=True, max_iter=100,\n",
              "   normalize=False, positive=False, precompute=False, random_state=None,\n",
              "   selection='cyclic', tol=0.01, warm_start=False)"
            ]
          },
          "metadata": {
            "tags": []
          },
          "execution_count": 44
        }
      ]
    },
    {
      "metadata": {
        "id": "3XBmvHK8syiy",
        "colab_type": "text"
      },
      "cell_type": "markdown",
      "source": [
        "Now, test the model on the test data and measure the `R^2` value.  You should get a much better fit than with the Ridge regression solution.  "
      ]
    },
    {
      "metadata": {
        "id": "sdmscfWOsyiz",
        "colab_type": "code",
        "colab": {
          "base_uri": "https://localhost:8080/",
          "height": 51
        },
        "outputId": "76374aa3-c32d-4102-8c96-9c0504b8d23f"
      },
      "cell_type": "code",
      "source": [
        "# TODO\n",
        "yts_pred = regr.predict(Xts)\n",
        "rsq = 1 - np.mean((yts_pred - Yts)**2)/(np.std(Yts)**2)\n",
        "print(f\"R^2 of LASSO is {rsq}\")\n",
        "regr.score(Xts, Yts)\n",
        "# ？？？？？Why so small??? Fix this!"
      ],
      "execution_count": 47,
      "outputs": [
        {
          "output_type": "stream",
          "text": [
            "R^2 of LASSO is 0.20151814304209725\n"
          ],
          "name": "stdout"
        },
        {
          "output_type": "execute_result",
          "data": {
            "text/plain": [
              "0.19862395154645307"
            ]
          },
          "metadata": {
            "tags": []
          },
          "execution_count": 47
        }
      ]
    },
    {
      "metadata": {
        "id": "7SsHtEF8syi4",
        "colab_type": "text"
      },
      "cell_type": "markdown",
      "source": [
        "We can now search for the optimal `alpha`.  Use cross-validation to find the `alpha` logarithically space between `alpha=10^{-3}` and `alpha=10^{-4}`.  Each fit takes some time, so use only 5 values of `alpha`. Also for each `alpha` store the current matrix.  This way, you will not have to re-fit the model."
      ]
    },
    {
      "metadata": {
        "id": "Dg-0igaQsyi7",
        "colab_type": "code",
        "colab": {
          "base_uri": "https://localhost:8080/",
          "height": 187
        },
        "outputId": "c9d0ba41-e2d5-43c5-e2b7-a2f5dd915a97"
      },
      "cell_type": "code",
      "source": [
        "# TODO\n",
        "nalpha = 5\n",
        "alphas = np.logspace(-3, -4, nalpha)\n",
        "\n",
        "rsqs = []\n",
        "Ws = []\n",
        "for alpha in alphas:\n",
        "  print(f\"calculating {alpha}\")\n",
        "  regr = Lasso(alpha=alpha) \n",
        "  regr.fit(Xtr, Ytr)\n",
        "  print(f\"Done {alpha}\")\n",
        "  yts_pred = regr.predict(Xts)\n",
        "  rsqs.append(1 - np.mean((yts_pred - Yts) ** 2)/(np.std(Yts) ** 2))  \n",
        "  Ws.append(regr.coef_.T)"
      ],
      "execution_count": 52,
      "outputs": [
        {
          "output_type": "stream",
          "text": [
            "calculating 0.001\n",
            "Done 0.001\n",
            "calculating 0.0005623413251903491\n",
            "Done 0.0005623413251903491\n",
            "calculating 0.00031622776601683794\n",
            "Done 0.00031622776601683794\n",
            "calculating 0.00017782794100389227\n",
            "Done 0.00017782794100389227\n",
            "calculating 0.0001\n",
            "Done 0.0001\n"
          ],
          "name": "stdout"
        }
      ]
    },
    {
      "metadata": {
        "id": "6lPSN1_msyjA",
        "colab_type": "text"
      },
      "cell_type": "markdown",
      "source": [
        "Plot the `r^2` value vs. `alpha`.  Print the optimal `r^2`.  You should see it is much higher than with the best Ridge Regression case."
      ]
    },
    {
      "metadata": {
        "id": "wybAHfBRsyjD",
        "colab_type": "code",
        "colab": {
          "base_uri": "https://localhost:8080/",
          "height": 382
        },
        "outputId": "9693d547-4160-458e-c673-177579ab4040"
      },
      "cell_type": "code",
      "source": [
        "# TODO\n",
        "plt.semilogx(alphas, rsqs, 'o-')\n",
        "plt.xlabel(r\"$\\alpha $\")\n",
        "plt.ylabel(\"$R^2$\")\n",
        "print(f\"Maximum of R^2 is {np.max(rsqs)}\")\n"
      ],
      "execution_count": 53,
      "outputs": [
        {
          "output_type": "stream",
          "text": [
            "Maximum of R^2 is 0.42323855126137133\n"
          ],
          "name": "stdout"
        },
        {
          "output_type": "display_data",
          "data": {
            "image/png": "[encoded data removed]",
            "text/plain": [
              "<Figure size 576x396 with 1 Axes>"
            ]
          },
          "metadata": {
            "tags": []
          }
        }
      ]
    },
    {
      "metadata": {
        "id": "H2jZGuLusyjN",
        "colab_type": "text"
      },
      "cell_type": "markdown",
      "source": [
        "Display the current matrix `W` for the optimal `alpha` as you did in the Ridge Regression case.  You will see that is much sparser."
      ]
    },
    {
      "metadata": {
        "id": "ohdBDSXHsyjO",
        "colab_type": "code",
        "colab": {}
      },
      "cell_type": "code",
      "source": [
        "# TODO"
      ],
      "execution_count": 0,
      "outputs": []
    },
    {
      "metadata": {
        "id": "n-3s38_ZsyjS",
        "colab_type": "text"
      },
      "cell_type": "markdown",
      "source": [
        "## More fun\n",
        "\n",
        "If you want to more on this lab:\n",
        "* Install the [MNE python package](https://martinos.org/mne/stable/index.html).  This is an amazing package with many tools for processing EEG data.\n",
        "* In particular, you can use the above results to visualize where in the brain the currents sources are.\n",
        "* You can also improve the fitting with more regularization.  For example, we know that the currents will be non-zero in groups:  If the current is non-zero for one time, it is likely to non-zero for all time.  You can use the Group LASSO method.\n",
        "* You can combine these results to make predictions about what the patient is seeing or hearing or thinking."
      ]
    },
    {
      "metadata": {
        "id": "51BZ9u4XsyjT",
        "colab_type": "code",
        "colab": {}
      },
      "cell_type": "code",
      "source": [
        ""
      ],
      "execution_count": 0,
      "outputs": []
    }
  ]
}