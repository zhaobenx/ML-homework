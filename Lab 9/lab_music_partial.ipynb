{
 "cells": [
  {
   "cell_type": "markdown",
   "metadata": {},
   "source": [
    "# Lab:  Neural Networks for Music Classification\n",
    "\n",
    "In addition to the concepts in the [MNIST neural network demo](./demo2_mnist_neural.ipynb), in this lab, you will learn to:\n",
    "* Load a file from a URL\n",
    "* Extract simple features from audio samples for machine learning tasks such as speech recognition and classification\n",
    "* Build a simple neural network for music classification using these features\n",
    "* Use a callback to store the loss and accuracy history in the training process\n",
    "* Optimize the learning rate of the neural network\n",
    "\n",
    "To illustrate the basic concepts, we will look at a relatively simple music classification problem.  Given a sample of music, we want to determine which instrument (e.g. trumpet, violin, piano) is playing.  This dataset was generously supplied by [Prof. Juan Bello](http://steinhardt.nyu.edu/faculty/Juan_Pablo_Bello) at NYU Stenihardt  and his former PhD student Eric Humphrey (now at Spotify).  They have a complete website dedicated to deep learning methods in music informatics:\n",
    "\n",
    "http://marl.smusic.nyu.edu/wordpress/projects/feature-learning-deep-architectures/deep-learning-python-tutorial/\n",
    "\n",
    "You can also check out Juan's <a href=\"http://www.nyu.edu/classes/bello/ACA.html\">course</a>.\n",
    "\n"
   ]
  },
  {
   "cell_type": "markdown",
   "metadata": {},
   "source": [
    "## Loading Tensorflow\n",
    "\n",
    "Before starting this lab, you will need to install [Tensorflow](https://www.tensorflow.org/install/).  If you are using [Google colaboratory](https://colab.research.google.com), Tensorflow is already installed.  Run the following command to ensure Tensorflow is installed."
   ]
  },
  {
   "cell_type": "code",
   "execution_count": 1,
   "metadata": {},
   "outputs": [],
   "source": [
    "import torch"
   ]
  },
  {
   "cell_type": "markdown",
   "metadata": {},
   "source": [
    "Then, load the other packages."
   ]
  },
  {
   "cell_type": "code",
   "execution_count": 2,
   "metadata": {},
   "outputs": [],
   "source": [
    "import numpy as np\n",
    "import matplotlib\n",
    "import matplotlib.pyplot as plt\n",
    "%matplotlib inline"
   ]
  },
  {
   "cell_type": "markdown",
   "metadata": {},
   "source": [
    "## Audio Feature Extraction with Librosa\n",
    "\n",
    "The key to audio classification is to extract the correct features. In addition to `keras`, we will need the `librosa` package.  The `librosa` package in python has a rich set of methods extracting the features of audio samples commonly used in machine learning tasks such as speech recognition and sound classification. \n",
    "\n",
    "Installation instructions and complete documentation for the package are given on the [librosa main page](https://librosa.github.io/librosa/).  On most systems, you should be able to simply use:\n",
    "\n",
    "    pip install -u librosa\n",
    "    \n",
    "For Unix, you may need to load some additional packages:\n",
    "\n",
    "    sudo apt-get install build-essential\n",
    "    sudo apt-get install libxext-dev python-qt4 qt4-dev-tools\n",
    "    pip install librosa\n",
    "    \n",
    "After you have installed the package, try to import it."
   ]
  },
  {
   "cell_type": "code",
   "execution_count": 3,
   "metadata": {},
   "outputs": [],
   "source": [
    "import librosa\n",
    "import librosa.display\n",
    "import librosa.feature"
   ]
  },
  {
   "cell_type": "markdown",
   "metadata": {},
   "source": [
    "In this lab, we will use a set of music samples from the website:\n",
    "\n",
    "http://theremin.music.uiowa.edu\n",
    "\n",
    "This website has a great set of samples for audio processing.  Look on the web for how to use the `requests.get` and `file.write` commands to load the file at the URL provided into your working directory.\n",
    "\n",
    "You can play the audio sample by copying the file to your local machine and playing it on any media player.  If you listen to it you will hear a soprano saxaphone (with vibrato) playing four notes (C, C#, D, Eb)."
   ]
  },
  {
   "cell_type": "code",
   "execution_count": 4,
   "metadata": {},
   "outputs": [],
   "source": [
    "import requests\n",
    "fn = \"SopSax.Vib.pp.C6Eb6.aiff\"\n",
    "url = \"http://theremin.music.uiowa.edu/sound files/MIS/Woodwinds/sopranosaxophone/\" + fn\n",
    "\n",
    "# TODO:  Load the file from url and save it in a file under the name fn\n",
    "r = requests.get(url)\n",
    "with open(fn, \"wb\") as f:\n",
    "    f.write(r.content)"
   ]
  },
  {
   "cell_type": "markdown",
   "metadata": {},
   "source": [
    "Next, use `librosa` command `librosa.load` to read the audio file with filename `fn` and get the samples `y` and sample rate `sr`."
   ]
  },
  {
   "cell_type": "code",
   "execution_count": 5,
   "metadata": {},
   "outputs": [],
   "source": [
    "# TODO\n",
    "# y, sr = ...\n",
    "y, sr = librosa.load(fn)"
   ]
  },
  {
   "cell_type": "markdown",
   "metadata": {},
   "source": [
    "Extracting features from audio files is an entire subject on its own right.  A commonly used set of features are called the Mel Frequency Cepstral Coefficients (MFCCs).  These are derived from the so-called mel spectrogram which is something like a regular spectrogram, but the power and frequency are represented in log scale, which more naturally aligns with human perceptual processing.  You can run the code below to display the mel spectrogram from the audio sample.\n",
    "\n",
    "You can easily see the four notes played in the audio track.  You also see the 'harmonics' of each notes, which are other tones at integer multiples of the fundamental frequency of each note."
   ]
  },
  {
   "cell_type": "code",
   "execution_count": 6,
   "metadata": {},
   "outputs": [
    {
     "data": {
      "image/png": "[encoded data removed]",
      "text/plain": [
       "<Figure size 432x288 with 2 Axes>"
      ]
     },
     "metadata": {
      "needs_background": "light"
     },
     "output_type": "display_data"
    }
   ],
   "source": [
    "S = librosa.feature.melspectrogram(y=y, sr=sr, n_mels=128, fmax=8000)\n",
    "librosa.display.specshow(\n",
    "    librosa.amplitude_to_db(S), y_axis='mel', fmax=8000, x_axis='time')\n",
    "plt.colorbar(format='%+2.0f dB')\n",
    "plt.title('Mel spectrogram')\n",
    "plt.tight_layout()"
   ]
  },
  {
   "cell_type": "markdown",
   "metadata": {},
   "source": [
    "## Downloading the Data\n",
    "\n",
    "Using the MFCC features described above, Eric Humphrey and Juan Bellow have created a complete data set that can used for instrument classification.  Essentially, they collected a number of data files from the website above.  For each audio file, the segmented the track into notes and then extracted 120 MFCCs for each note.  The goal is to recognize the instrument from the 120 MFCCs.  The process of feature extraction is quite involved.  So, we will just use their processed data provided at:\n",
    "\n",
    "https://github.com/marl/dl4mir-tutorial/blob/master/README.md\n",
    "\n",
    "Note the password.  Load the four files into some directory, say  `instrument_dataset`.  Then, load them with the commands."
   ]
  },
  {
   "cell_type": "code",
   "execution_count": 7,
   "metadata": {},
   "outputs": [],
   "source": [
    "data_dir = 'instrument_dataset/'\n",
    "Xtr = np.load(data_dir + 'uiowa_train_data.npy')\n",
    "ytr = np.load(data_dir + 'uiowa_train_labels.npy')\n",
    "Xts = np.load(data_dir + 'uiowa_test_data.npy')\n",
    "yts = np.load(data_dir + 'uiowa_test_labels.npy')"
   ]
  },
  {
   "cell_type": "markdown",
   "metadata": {},
   "source": [
    "Looking at the data files:\n",
    "* What are the number of training and test samples?\n",
    "* What is the number of features for each sample?\n",
    "* How many classes (i.e. instruments) are there per class?\n"
   ]
  },
  {
   "cell_type": "code",
   "execution_count": 8,
   "metadata": {},
   "outputs": [
    {
     "name": "stdout",
     "output_type": "stream",
     "text": [
      "No. of training data is 66247, no. of test data is 14904.\n",
      "Each sample contains 120 features.\n",
      "There are 10 classes per class.\n"
     ]
    }
   ],
   "source": [
    "# TODO\n",
    "print(\n",
    "    f\"No. of training data is {Xtr.shape[0]}, no. of test data is {Xts.shape[0]}.\"\n",
    ")\n",
    "print(f\"Each sample contains {Xtr.shape[1]} features.\")\n",
    "print(f\"There are {np.unique(ytr).shape[0]} classes per class.\")"
   ]
  },
  {
   "cell_type": "markdown",
   "metadata": {},
   "source": [
    "Before continuing, you must scale the training and test data, `Xtr` and `Xts`.  Compute the mean and std deviation of each feature in `Xtr` and create a new training data set, `Xtr_scale`, by subtracting the mean and dividing by the std deviation.  Also compute a scaled test data set, `Xts_scale` using the mean and std deviation learned from the training data set."
   ]
  },
  {
   "cell_type": "code",
   "execution_count": 9,
   "metadata": {},
   "outputs": [],
   "source": [
    "# TODO Scale the training and test matrices\n",
    "# Xtr_scale = ...\n",
    "# Xts_scale = ...\n",
    "mean = np.mean(Xtr, axis=0)\n",
    "std = np.std(Xtr, axis=0)\n",
    "Xtr_scale = (Xtr - mean) / std\n",
    "Xts_scale = (Xts - mean) / std"
   ]
  },
  {
   "cell_type": "markdown",
   "metadata": {
    "collapsed": true
   },
   "source": [
    "## Building a Neural Network Classifier\n",
    "\n",
    "Following the example in [MNIST neural network demo](./mnist_neural.ipynb), clear the keras session.  Then, create a neural network `model` with:\n",
    "* `nh=256` hidden units\n",
    "* `sigmoid` activation\n",
    "* select the input and output shapes correctly\n",
    "* print the model summary"
   ]
  },
  {
   "cell_type": "code",
   "execution_count": 10,
   "metadata": {},
   "outputs": [],
   "source": [
    "from torch import nn, optim\n",
    "import torch.utils.data as utils"
   ]
  },
  {
   "cell_type": "code",
   "execution_count": 33,
   "metadata": {},
   "outputs": [],
   "source": [
    "# TODO: construct the model\n",
    "nh = 256\n",
    "features = Xtr.shape[1]\n",
    "classes = np.unique(ytr).shape[0]\n",
    "model = nn.Sequential(nn.Linear(features, nh), nn.Linear(nh, classes))\n",
    "model = model.double()"
   ]
  },
  {
   "cell_type": "code",
   "execution_count": 34,
   "metadata": {},
   "outputs": [
    {
     "name": "stdout",
     "output_type": "stream",
     "text": [
      "Sequential(\n",
      "  (0): Linear(in_features=120, out_features=256, bias=True)\n",
      "  (1): Linear(in_features=256, out_features=10, bias=True)\n",
      ")\n"
     ]
    }
   ],
   "source": [
    "# TODO:  Print the model summary\n",
    "print(model)"
   ]
  },
  {
   "cell_type": "markdown",
   "metadata": {},
   "source": [
    "Create an optimizer and compile the model.  Select the appropriate loss function and metrics.  For the optimizer, use the Adam optimizer with a learning rate of 0.001"
   ]
  },
  {
   "cell_type": "code",
   "execution_count": 35,
   "metadata": {
    "scrolled": true
   },
   "outputs": [],
   "source": [
    "# TODO\n",
    "optimizer = optim.Adam(model.parameters(), lr=0.001)\n",
    "criterion = nn.CrossEntropyLoss()"
   ]
  },
  {
   "cell_type": "markdown",
   "metadata": {},
   "source": [
    "Fit the model for 10 epochs using the scaled data for both the training and validation.  Use the `validation_data` option to pass the test data.  Also, pass the callback class create above.  Use a batch size of 100.  Your final accuracy should be >99%."
   ]
  },
  {
   "cell_type": "code",
   "execution_count": 37,
   "metadata": {
    "scrolled": true
   },
   "outputs": [
    {
     "name": "stdout",
     "output_type": "stream",
     "text": [
      "Running on: cuda:0\n",
      "Epoch 0/10: Accuracy on training data is 97.46%, loss on training data is 9.09%, accuracy on test data is 96.24%.\n",
      "Epoch 1/10: Accuracy on training data is 98.03%, loss on training data is 7.08%, accuracy on test data is 97.32%.\n",
      "Epoch 2/10: Accuracy on training data is 98.76%, loss on training data is 6.07%, accuracy on test data is 98.30%.\n",
      "Epoch 3/10: Accuracy on training data is 98.74%, loss on training data is 5.42%, accuracy on test data is 98.30%.\n",
      "Epoch 4/10: Accuracy on training data is 98.82%, loss on training data is 4.86%, accuracy on test data is 97.87%.\n",
      "Epoch 5/10: Accuracy on training data is 98.66%, loss on training data is 4.55%, accuracy on test data is 97.99%.\n",
      "Epoch 6/10: Accuracy on training data is 98.56%, loss on training data is 4.54%, accuracy on test data is 97.39%.\n",
      "Epoch 7/10: Accuracy on training data is 98.66%, loss on training data is 4.12%, accuracy on test data is 97.81%.\n",
      "Epoch 8/10: Accuracy on training data is 98.90%, loss on training data is 4.10%, accuracy on test data is 97.92%.\n",
      "Epoch 9/10: Accuracy on training data is 98.75%, loss on training data is 3.80%, accuracy on test data is 98.01%.\n"
     ]
    }
   ],
   "source": [
    "# TODO\n",
    "epoches = 10\n",
    "\n",
    "device = torch.device(\"cuda:0\" if torch.cuda.is_available() else \"cpu\")\n",
    "print(\"Running on:\", device)\n",
    "\n",
    "Xtr_scalet = torch.from_numpy(Xtr_scale)\n",
    "ytrt = torch.from_numpy(ytr)\n",
    "Xts_scalet = torch.from_numpy(Xts_scale)\n",
    "ytst = torch.from_numpy(yts)\n",
    "# convert numpy to tensor\n",
    "trainset = utils.TensorDataset(Xtr_scalet, ytrt)\n",
    "testset = utils.TensorDataset(Xts_scalet, ytst)\n",
    "\n",
    "val_acc = []\n",
    "losses = []\n",
    "\n",
    "for epoch in range(epoches):\n",
    "\n",
    "    trainloader = utils.DataLoader(trainset, batch_size=100, shuffle=True)\n",
    "    testloader = utils.DataLoader(testset, batch_size=100)\n",
    "\n",
    "    model.to(device)\n",
    "    running_loss = 0\n",
    "    validation_loss = 0\n",
    "    for i, data in enumerate(trainloader, 0):\n",
    "        model.train()\n",
    "        inputs, labels = data\n",
    "        inputs, labels = inputs.to(device), labels.to(device)\n",
    "\n",
    "        optimizer.zero_grad()\n",
    "\n",
    "        outputs = model(inputs)\n",
    "\n",
    "        loss = criterion(outputs, labels)\n",
    "        loss.backward()\n",
    "        optimizer.step()\n",
    "\n",
    "        # print statistics\n",
    "        running_loss += loss.item()\n",
    "\n",
    "        if 0 and i % 2000 == 0:  # print every 2000 mini-batches\n",
    "            print(\n",
    "                f\"Training on {{epoch {epoch + 1}, batchs {i}}}, loss is {running_loss / i *100:.2f}%\"\n",
    "            )\n",
    "\n",
    "    # envaluation\n",
    "\n",
    "    model.eval()\n",
    "    train_correct = 0\n",
    "    train_total = 0\n",
    "    val_correct = 0\n",
    "    val_total = 0\n",
    "\n",
    "    with torch.no_grad():\n",
    "        for data in trainloader:\n",
    "            inputs, labels = data\n",
    "            inputs, labels = inputs.to(device), labels.to(device)\n",
    "\n",
    "            outputs = model(inputs)\n",
    "            _, predicted = torch.max(outputs.data, 1)\n",
    "            train_total += labels.size(0)\n",
    "            train_correct += (predicted == labels).sum().item()\n",
    "\n",
    "    with torch.no_grad():\n",
    "        for data in testloader:\n",
    "            inputs, labels = data\n",
    "            inputs, labels = inputs.to(device), labels.to(device)\n",
    "\n",
    "            outputs = model(inputs)\n",
    "            _, predicted = torch.max(outputs.data, 1)\n",
    "            val_total += labels.size(0)\n",
    "            val_correct += (predicted == labels).sum().item()\n",
    "    val_acc.append(100 * val_correct / val_total)\n",
    "    losses.append(running_loss / i * 100)\n",
    "    print(\n",
    "        f\"Epoch {epoch+1}/{epoches}: Accuracy on training data is {100 * train_correct / train_total:.2f}%, \\\n",
    "loss on training data is {running_loss / i *100:.2f}%, \\\n",
    "accuracy on test data is {100 * val_correct / val_total:.2f}%.\")"
   ]
  },
  {
   "cell_type": "markdown",
   "metadata": {},
   "source": [
    "Plot the validation accuracy saved in `hist.history` dictionary. This gives one accuracy value per epoch.  You should see that the validation accuracy saturates at a little higher than 99%.  After that it \"bounces around\" due to the noise in the stochastic gradient descent."
   ]
  },
  {
   "cell_type": "code",
   "execution_count": 46,
   "metadata": {},
   "outputs": [
    {
     "data": {
      "image/png": "[encoded data removed]",
      "text/plain": [
       "<Figure size 432x288 with 1 Axes>"
      ]
     },
     "metadata": {
      "needs_background": "light"
     },
     "output_type": "display_data"
    }
   ],
   "source": [
    "# TODO\n",
    "plt.plot(val_acc)\n",
    "plt.xlabel(\"Epochs\")\n",
    "plt.ylabel(\"Accuracy(%)\")\n",
    "plt.grid()\n",
    "plt.title(\"Validation accuracy\")\n",
    "plt.show()"
   ]
  },
  {
   "cell_type": "markdown",
   "metadata": {},
   "source": [
    "Plot the loss values saved in the `hist.history` dictionary.  You should see that the loss is steadily decreasing.  Use the `semilogy` plot."
   ]
  },
  {
   "cell_type": "code",
   "execution_count": 45,
   "metadata": {},
   "outputs": [
    {
     "data": {
      "image/png": "[encoded data removed]",
      "text/plain": [
       "<Figure size 432x288 with 1 Axes>"
      ]
     },
     "metadata": {
      "needs_background": "light"
     },
     "output_type": "display_data"
    }
   ],
   "source": [
    "# TODO\n",
    "plt.plot(losses)\n",
    "plt.xlabel(\"Epochs\")\n",
    "plt.ylabel(\"Loss(%)\")\n",
    "plt.grid()\n",
    "plt.title(\"Loss\")\n",
    "plt.show()"
   ]
  },
  {
   "cell_type": "markdown",
   "metadata": {},
   "source": [
    "## Optimizing the Learning Rate\n",
    "\n",
    "One challenge in training neural networks is the selection of the learning rate.  Rerun the above code, trying four learning rates as shown in the vector `rates`.  For each learning rate:\n",
    "* clear the session\n",
    "* construct the network\n",
    "* select the optimizer.  Use the Adam optimizer with the appropriate learrning rate.\n",
    "* train the model for 20 epochs\n",
    "* save the accuracy and losses"
   ]
  },
  {
   "cell_type": "code",
   "execution_count": 59,
   "metadata": {},
   "outputs": [
    {
     "name": "stdout",
     "output_type": "stream",
     "text": [
      "Running on: cuda:0\n",
      "Learning rate: 0.01\n",
      "Epoch 1/20: Accuracy on training data is 94.48%, loss on training data is 26.64%, accuracy on test data is 94.52%.\n",
      "Epoch 2/20: Accuracy on training data is 94.62%, loss on training data is 20.33%, accuracy on test data is 91.22%.\n",
      "Epoch 3/20: Accuracy on training data is 97.53%, loss on training data is 16.37%, accuracy on test data is 96.79%.\n",
      "Epoch 4/20: Accuracy on training data is 96.80%, loss on training data is 16.64%, accuracy on test data is 96.37%.\n",
      "Epoch 5/20: Accuracy on training data is 98.37%, loss on training data is 18.58%, accuracy on test data is 97.49%.\n",
      "Epoch 6/20: Accuracy on training data is 97.17%, loss on training data is 12.21%, accuracy on test data is 97.38%.\n",
      "Epoch 7/20: Accuracy on training data is 97.37%, loss on training data is 21.72%, accuracy on test data is 97.28%.\n",
      "Epoch 8/20: Accuracy on training data is 98.17%, loss on training data is 11.29%, accuracy on test data is 97.21%.\n",
      "Epoch 9/20: Accuracy on training data is 98.34%, loss on training data is 12.06%, accuracy on test data is 97.29%.\n",
      "Epoch 10/20: Accuracy on training data is 97.59%, loss on training data is 22.23%, accuracy on test data is 97.60%.\n",
      "Epoch 11/20: Accuracy on training data is 97.82%, loss on training data is 16.92%, accuracy on test data is 97.25%.\n",
      "Epoch 12/20: Accuracy on training data is 98.12%, loss on training data is 14.52%, accuracy on test data is 97.80%.\n",
      "Epoch 13/20: Accuracy on training data is 98.41%, loss on training data is 12.59%, accuracy on test data is 96.77%.\n",
      "Epoch 14/20: Accuracy on training data is 98.34%, loss on training data is 10.95%, accuracy on test data is 96.05%.\n",
      "Epoch 15/20: Accuracy on training data is 98.14%, loss on training data is 20.41%, accuracy on test data is 97.17%.\n",
      "Epoch 16/20: Accuracy on training data is 98.29%, loss on training data is 12.00%, accuracy on test data is 97.53%.\n",
      "Epoch 17/20: Accuracy on training data is 98.71%, loss on training data is 11.33%, accuracy on test data is 98.15%.\n",
      "Epoch 18/20: Accuracy on training data is 97.95%, loss on training data is 14.31%, accuracy on test data is 97.69%.\n",
      "Epoch 19/20: Accuracy on training data is 98.85%, loss on training data is 12.95%, accuracy on test data is 97.50%.\n",
      "Epoch 20/20: Accuracy on training data is 98.52%, loss on training data is 18.20%, accuracy on test data is 97.31%.\n",
      "Learning rate: 0.001\n",
      "Epoch 1/20: Accuracy on training data is 97.51%, loss on training data is 21.67%, accuracy on test data is 96.79%.\n",
      "Epoch 2/20: Accuracy on training data is 97.95%, loss on training data is 8.96%, accuracy on test data is 96.61%.\n",
      "Epoch 3/20: Accuracy on training data is 97.98%, loss on training data is 6.88%, accuracy on test data is 97.67%.\n",
      "Epoch 4/20: Accuracy on training data is 98.49%, loss on training data is 5.86%, accuracy on test data is 97.82%.\n",
      "Epoch 5/20: Accuracy on training data is 98.74%, loss on training data is 5.49%, accuracy on test data is 98.01%.\n",
      "Epoch 6/20: Accuracy on training data is 98.63%, loss on training data is 4.89%, accuracy on test data is 97.99%.\n",
      "Epoch 7/20: Accuracy on training data is 98.82%, loss on training data is 4.52%, accuracy on test data is 97.98%.\n",
      "Epoch 8/20: Accuracy on training data is 98.82%, loss on training data is 4.16%, accuracy on test data is 97.87%.\n",
      "Epoch 9/20: Accuracy on training data is 98.82%, loss on training data is 4.16%, accuracy on test data is 98.39%.\n",
      "Epoch 10/20: Accuracy on training data is 98.95%, loss on training data is 4.07%, accuracy on test data is 98.15%.\n",
      "Epoch 11/20: Accuracy on training data is 98.76%, loss on training data is 3.88%, accuracy on test data is 97.38%.\n",
      "Epoch 12/20: Accuracy on training data is 99.10%, loss on training data is 3.71%, accuracy on test data is 98.32%.\n",
      "Epoch 13/20: Accuracy on training data is 98.57%, loss on training data is 3.48%, accuracy on test data is 98.27%.\n",
      "Epoch 14/20: Accuracy on training data is 98.96%, loss on training data is 3.58%, accuracy on test data is 98.22%.\n",
      "Epoch 15/20: Accuracy on training data is 98.81%, loss on training data is 3.38%, accuracy on test data is 98.36%.\n",
      "Epoch 16/20: Accuracy on training data is 99.14%, loss on training data is 3.28%, accuracy on test data is 98.56%.\n",
      "Epoch 17/20: Accuracy on training data is 99.14%, loss on training data is 3.30%, accuracy on test data is 98.20%.\n",
      "Epoch 18/20: Accuracy on training data is 99.08%, loss on training data is 3.23%, accuracy on test data is 98.24%.\n",
      "Epoch 19/20: Accuracy on training data is 98.80%, loss on training data is 3.08%, accuracy on test data is 97.10%.\n",
      "Epoch 20/20: Accuracy on training data is 99.37%, loss on training data is 3.07%, accuracy on test data is 98.48%.\n",
      "Learning rate: 0.0001\n",
      "Epoch 1/20: Accuracy on training data is 91.58%, loss on training data is 74.62%, accuracy on test data is 85.80%.\n",
      "Epoch 2/20: Accuracy on training data is 94.71%, loss on training data is 28.13%, accuracy on test data is 92.20%.\n",
      "Epoch 3/20: Accuracy on training data is 95.84%, loss on training data is 19.53%, accuracy on test data is 93.78%.\n",
      "Epoch 4/20: Accuracy on training data is 96.18%, loss on training data is 15.75%, accuracy on test data is 93.95%.\n",
      "Epoch 5/20: Accuracy on training data is 96.65%, loss on training data is 13.44%, accuracy on test data is 94.99%.\n",
      "Epoch 6/20: Accuracy on training data is 97.17%, loss on training data is 11.90%, accuracy on test data is 95.77%.\n",
      "Epoch 7/20: Accuracy on training data is 97.30%, loss on training data is 10.77%, accuracy on test data is 95.88%.\n",
      "Epoch 8/20: Accuracy on training data is 97.53%, loss on training data is 9.83%, accuracy on test data is 96.15%.\n",
      "Epoch 9/20: Accuracy on training data is 97.70%, loss on training data is 9.14%, accuracy on test data is 96.58%.\n",
      "Epoch 10/20: Accuracy on training data is 97.87%, loss on training data is 8.56%, accuracy on test data is 96.92%.\n",
      "Epoch 11/20: Accuracy on training data is 98.05%, loss on training data is 8.07%, accuracy on test data is 97.06%.\n",
      "Epoch 12/20: Accuracy on training data is 98.12%, loss on training data is 7.65%, accuracy on test data is 97.42%.\n",
      "Epoch 13/20: Accuracy on training data is 98.25%, loss on training data is 7.29%, accuracy on test data is 97.62%.\n",
      "Epoch 14/20: Accuracy on training data is 98.26%, loss on training data is 6.97%, accuracy on test data is 97.42%.\n",
      "Epoch 15/20: Accuracy on training data is 98.41%, loss on training data is 6.70%, accuracy on test data is 97.85%.\n",
      "Epoch 16/20: Accuracy on training data is 98.22%, loss on training data is 6.44%, accuracy on test data is 97.16%.\n",
      "Epoch 17/20: Accuracy on training data is 98.39%, loss on training data is 6.19%, accuracy on test data is 97.64%.\n",
      "Epoch 18/20: Accuracy on training data is 98.39%, loss on training data is 6.00%, accuracy on test data is 97.48%.\n",
      "Epoch 19/20: Accuracy on training data is 98.56%, loss on training data is 5.81%, accuracy on test data is 97.97%.\n",
      "Epoch 20/20: Accuracy on training data is 98.57%, loss on training data is 5.64%, accuracy on test data is 97.94%.\n"
     ]
    }
   ],
   "source": [
    "rates = [0.01, 0.001, 0.0001]\n",
    "batch_size = 100\n",
    "loss_hist = []\n",
    "acc_hist = []\n",
    "\n",
    "# TODO\n",
    "# for lr in rate:\n",
    "#    ...\n",
    "\n",
    "device = torch.device(\"cuda:0\" if torch.cuda.is_available() else \"cpu\")\n",
    "print(\"Running on:\", device)\n",
    "for lr in rates:\n",
    "    print(f\"Learning rate: {lr}\")\n",
    "    model = nn.Sequential(nn.Linear(features, nh), nn.Linear(nh, classes))\n",
    "    model = model.double()\n",
    "\n",
    "    optimizer = optim.Adam(model.parameters(), lr=lr)\n",
    "    criterion = nn.CrossEntropyLoss()\n",
    "\n",
    "    epoches = 20\n",
    "\n",
    "    Xtr_scalet = torch.from_numpy(Xtr_scale)\n",
    "    ytrt = torch.from_numpy(ytr)\n",
    "    Xts_scalet = torch.from_numpy(Xts_scale)\n",
    "    ytst = torch.from_numpy(yts)\n",
    "    # convert numpy to tensor\n",
    "    trainset = utils.TensorDataset(Xtr_scalet, ytrt)\n",
    "    testset = utils.TensorDataset(Xts_scalet, ytst)\n",
    "\n",
    "    val_acc = []\n",
    "    losses = []\n",
    "\n",
    "    for epoch in range(epoches):\n",
    "\n",
    "        trainloader = utils.DataLoader(trainset, batch_size=100, shuffle=True)\n",
    "        testloader = utils.DataLoader(testset, batch_size=100)\n",
    "\n",
    "        model.to(device)\n",
    "        running_loss = 0\n",
    "        validation_loss = 0\n",
    "        for i, data in enumerate(trainloader, 0):\n",
    "            model.train()\n",
    "            inputs, labels = data\n",
    "            inputs, labels = inputs.to(device), labels.to(device)\n",
    "\n",
    "            optimizer.zero_grad()\n",
    "\n",
    "            outputs = model(inputs)\n",
    "\n",
    "            loss = criterion(outputs, labels)\n",
    "            loss.backward()\n",
    "            optimizer.step()\n",
    "\n",
    "            # print statistics\n",
    "            running_loss += loss.item()\n",
    "\n",
    "            if 0 and i % 2000 == 0:  # print every 2000 mini-batches\n",
    "                print(\n",
    "                    f\"Training on {{epoch {epoch + 1}, batchs {i}}}, loss is {running_loss / i *100:.2f}%\"\n",
    "                )\n",
    "\n",
    "        # envaluation\n",
    "\n",
    "        model.eval()\n",
    "        train_correct = 0\n",
    "        train_total = 0\n",
    "        val_correct = 0\n",
    "        val_total = 0\n",
    "\n",
    "        with torch.no_grad():\n",
    "            for data in trainloader:\n",
    "                inputs, labels = data\n",
    "                inputs, labels = inputs.to(device), labels.to(device)\n",
    "\n",
    "                outputs = model(inputs)\n",
    "                _, predicted = torch.max(outputs.data, 1)\n",
    "                train_total += labels.size(0)\n",
    "                train_correct += (predicted == labels).sum().item()\n",
    "\n",
    "        with torch.no_grad():\n",
    "            for data in testloader:\n",
    "                inputs, labels = data\n",
    "                inputs, labels = inputs.to(device), labels.to(device)\n",
    "\n",
    "                outputs = model(inputs)\n",
    "                _, predicted = torch.max(outputs.data, 1)\n",
    "                val_total += labels.size(0)\n",
    "                val_correct += (predicted == labels).sum().item()\n",
    "        val_acc.append(100 * val_correct / val_total)\n",
    "        losses.append(running_loss / i * 100)\n",
    "        print(\n",
    "            f\"Epoch {epoch+1}/{epoches}: Accuracy on training data is {100 * train_correct / train_total:.2f}%, \\\n",
    "loss on training data is {running_loss / i *100:.2f}%, \\\n",
    "accuracy on test data is {100 * val_correct / val_total:.2f}%.\")\n",
    "\n",
    "    loss_hist.append(losses)\n",
    "    acc_hist.append(val_acc)"
   ]
  },
  {
   "cell_type": "markdown",
   "metadata": {},
   "source": [
    "Plot the loss funciton vs. the epoch number for all three learning rates on one graph.  You should see that the lower learning rates are more stable, but converge slower."
   ]
  },
  {
   "cell_type": "code",
   "execution_count": 60,
   "metadata": {},
   "outputs": [
    {
     "data": {
      "image/png": "[encoded data removed]",
      "text/plain": [
       "<Figure size 1008x432 with 2 Axes>"
      ]
     },
     "metadata": {
      "needs_background": "light"
     },
     "output_type": "display_data"
    }
   ],
   "source": [
    "# TODO\n",
    "plt.figure(figsize=(14,6))\n",
    "plt.subplot(1,2,1)\n",
    "for loss in loss_hist:\n",
    "    plt.plot(loss)\n",
    "\n",
    "plt.xlabel(\"Epochs\")\n",
    "plt.ylabel(\"Loss(%)\")\n",
    "plt.grid()\n",
    "plt.title(\"Loss vs. learning rate\")\n",
    "plt.legend(rates)\n",
    "\n",
    "plt.subplot(1,2,2)\n",
    "for acc in acc_hist:\n",
    "    plt.plot(acc)\n",
    "\n",
    "plt.xlabel(\"Epochs\")\n",
    "plt.ylabel(\"Accuracy(%)\")\n",
    "plt.grid()\n",
    "plt.title(\"Validation accuracy vs. learning rate\")\n",
    "plt.legend(rates)\n",
    "plt.show()\n"
   ]
  }
 ],
 "metadata": {
  "anaconda-cloud": {},
  "kernelspec": {
   "display_name": "Python 3",
   "language": "python",
   "name": "python3"
  },
  "language_info": {
   "codemirror_mode": {
    "name": "ipython",
    "version": 3
   },
   "file_extension": ".py",
   "mimetype": "text/x-python",
   "name": "python",
   "nbconvert_exporter": "python",
   "pygments_lexer": "ipython3",
   "version": "3.7.2"
  }
 },
 "nbformat": 4,
 "nbformat_minor": 1
}
